{
 "cells": [
  {
   "cell_type": "markdown",
   "metadata": {},
   "source": [
    "# CS202: Compiler Construction\n",
    "\n",
    "## In-class Exercises, Week of 02/15/2021"
   ]
  },
  {
   "cell_type": "markdown",
   "metadata": {},
   "source": [
    "----\n",
    "# Explicate-control pass\n",
    "\n",
    "The explicate-control pass transforms a program written as an expression into a *sequence of statements* with explicit order."
   ]
  },
  {
   "cell_type": "markdown",
   "metadata": {},
   "source": [
    "## Question 1\n",
    "\n",
    "In the following code, is the expression `1 + 2` in *tail position*? Is the expression `x + 3` in *tail position*?\n",
    "\n",
    "```\n",
    "let x = 1 + 2\n",
    "in x + 3\n",
    "```"
   ]
  },
  {
   "cell_type": "markdown",
   "metadata": {},
   "source": [
    "1. 1 + 2 is not in tail position\n",
    "2. Yes, x+3 is in tail position"
   ]
  },
  {
   "cell_type": "markdown",
   "metadata": {},
   "source": [
    "## Question 2\n",
    "\n",
    "How do you determine if an expression is in tail position?"
   ]
  },
  {
   "cell_type": "markdown",
   "metadata": {},
   "source": [
    "If there is nothing left to do in evaluating the program *after* you evaluate the expression in question, it is in tail position"
   ]
  },
  {
   "cell_type": "markdown",
   "metadata": {},
   "source": [
    "## Question 3\n",
    "\n",
    "Why do we need the explicate-control pass?"
   ]
  },
  {
   "cell_type": "markdown",
   "metadata": {},
   "source": [
    "- It turns an expression with a value into a sequence of actions (statements)\n",
    "- We need this because in x86 assembly, programs are not expressions"
   ]
  },
  {
   "cell_type": "markdown",
   "metadata": {},
   "source": [
    "## Question 4\n",
    "\n",
    "Compile the following ANF program into CVar (manually perform the explicate-control pass).\n",
    "\n",
    "```\n",
    "let x = 1 + 2\n",
    "in x + 3\n",
    "```"
   ]
  },
  {
   "cell_type": "markdown",
   "metadata": {},
   "source": [
    "Solution:\n",
    "\n",
    "```\n",
    "x := 1 + 2\n",
    "return x + 3\n",
    "\n",
    "Seq(\n",
    "    Assign(x, Prim('+', [Int(1), Int(2)])),\n",
    "    Return(Prim('+',[Var(x), Int(3)]))\n",
    "    )\n",
    "```"
   ]
  },
  {
   "cell_type": "markdown",
   "metadata": {},
   "source": [
    "## Question 5\n",
    "\n",
    "Describe the structure of the explicate-control pass."
   ]
  },
  {
   "cell_type": "markdown",
   "metadata": {},
   "source": [
    "Two recursive functions:\n",
    "- `ec_tail` processes RVar expressions in tail position, and produces CVar tail objects\n",
    "    - When we find a let expression:\n",
    "        - call `ec_assign` where x = e.x, e = e.e1, and k = `ec_tail(e.body)`\n",
    "- `ec_assign` processes RVar assignments in non-tail positions, and produces CVar tail objects\n",
    "    - When we find an atomic expression:\n",
    "        - produce a sequence where we \n",
    "            1. assign x to e \n",
    "            2. what what k says"
   ]
  },
  {
   "cell_type": "markdown",
   "metadata": {},
   "source": [
    "----\n",
    "# Select-instructions pass\n",
    "\n",
    "The select-instructions pass transforms a sequence of statements into X86 assembly instructions."
   ]
  },
  {
   "cell_type": "markdown",
   "metadata": {},
   "source": [
    "## Question 6\n",
    "\n",
    "Convert the following CVar code into a psuedo-x86 assembly program.\n",
    "\n",
    "```\n",
    "Program({\n",
    " 'start':\n",
    "  Seq(\n",
    "   Assign(\n",
    "    y_1,\n",
    "    AtmExp(Int(5))),\n",
    "   Seq(\n",
    "    Assign(\n",
    "     x_2,\n",
    "     AtmExp(Var(y_1))),\n",
    "    Return(AtmExp(Var(x_2)))))\n",
    "})\n",
    "```"
   ]
  },
  {
   "cell_type": "markdown",
   "metadata": {},
   "source": [
    "```\n",
    "movq $5, #y_1\n",
    "movq #y_1, #x_2\n",
    "movq #x_2, %rax\n",
    "jmp conclusion\n",
    "```"
   ]
  },
  {
   "cell_type": "markdown",
   "metadata": {},
   "source": [
    "## Question 7\n",
    "\n",
    "Describe the structure of select-instructions."
   ]
  },
  {
   "cell_type": "markdown",
   "metadata": {},
   "source": [
    "- when you find an assignment, turn it into a movq\n",
    "- when you find an assignment whose right-hand size is a + expression, turn it into an addq\n",
    "- when you find a return, turn it into a movq/addq followed by jmp conclusion"
   ]
  },
  {
   "cell_type": "markdown",
   "metadata": {},
   "source": [
    "----\n",
    "# Assign-homes pass"
   ]
  },
  {
   "cell_type": "markdown",
   "metadata": {},
   "source": [
    "The assign-homes pass places each program variable in a *stack location* in memory, eliminating variables from the program.\n",
    "\n",
    "See Section 2.2 for details; especially see Figure 2.7 for details on the memory layout of stack frames."
   ]
  },
  {
   "cell_type": "markdown",
   "metadata": {},
   "source": [
    "## Question 8\n",
    "\n",
    "Write X86 assembly that prepares a stack frame for four variables and puts the values 1,2,3,4 in stack locations."
   ]
  },
  {
   "cell_type": "code",
   "execution_count": 4,
   "metadata": {},
   "outputs": [
    {
     "data": {
      "text/html": [
       "<div>\n",
       "<style scoped>\n",
       "    .dataframe tbody tr th:only-of-type {\n",
       "        vertical-align: middle;\n",
       "    }\n",
       "\n",
       "    .dataframe tbody tr th {\n",
       "        vertical-align: top;\n",
       "    }\n",
       "\n",
       "    .dataframe thead th {\n",
       "        text-align: right;\n",
       "    }\n",
       "</style>\n",
       "<table border=\"1\" class=\"dataframe\">\n",
       "  <thead>\n",
       "    <tr style=\"text-align: right;\">\n",
       "      <th></th>\n",
       "      <th>Location</th>\n",
       "      <th>Old</th>\n",
       "      <th>New</th>\n",
       "    </tr>\n",
       "  </thead>\n",
       "  <tbody>\n",
       "    <tr>\n",
       "      <th>0</th>\n",
       "      <td>mem 992</td>\n",
       "      <td>NaN</td>\n",
       "      <td>1000</td>\n",
       "    </tr>\n",
       "    <tr>\n",
       "      <th>1</th>\n",
       "      <td>mem 984</td>\n",
       "      <td>NaN</td>\n",
       "      <td>1</td>\n",
       "    </tr>\n",
       "    <tr>\n",
       "      <th>2</th>\n",
       "      <td>mem 976</td>\n",
       "      <td>NaN</td>\n",
       "      <td>2</td>\n",
       "    </tr>\n",
       "    <tr>\n",
       "      <th>3</th>\n",
       "      <td>mem 968</td>\n",
       "      <td>NaN</td>\n",
       "      <td>3</td>\n",
       "    </tr>\n",
       "    <tr>\n",
       "      <th>4</th>\n",
       "      <td>mem 960</td>\n",
       "      <td>NaN</td>\n",
       "      <td>4</td>\n",
       "    </tr>\n",
       "    <tr>\n",
       "      <th>5</th>\n",
       "      <td>reg rbp</td>\n",
       "      <td>1000.0</td>\n",
       "      <td>992</td>\n",
       "    </tr>\n",
       "    <tr>\n",
       "      <th>6</th>\n",
       "      <td>reg rsp</td>\n",
       "      <td>1000.0</td>\n",
       "      <td>960</td>\n",
       "    </tr>\n",
       "  </tbody>\n",
       "</table>\n",
       "</div>"
      ],
      "text/plain": [
       "  Location     Old   New\n",
       "0  mem 992     NaN  1000\n",
       "1  mem 984     NaN     1\n",
       "2  mem 976     NaN     2\n",
       "3  mem 968     NaN     3\n",
       "4  mem 960     NaN     4\n",
       "5  reg rbp  1000.0   992\n",
       "6  reg rsp  1000.0   960"
      ]
     },
     "execution_count": 4,
     "metadata": {},
     "output_type": "execute_result"
    }
   ],
   "source": [
    "from cs202_support.eval_x86 import X86Emulator\n",
    "\n",
    "asm = \"\"\"\n",
    "pushq %rbp\n",
    "movq %rsp, %rbp\n",
    "subq $32, %rsp\n",
    "movq $1, -8(%rbp)\n",
    "movq $2, -16(%rbp)\n",
    "movq $3, -24(%rbp)\n",
    "movq $4, -32(%rbp)\n",
    "\"\"\"\n",
    "\n",
    "X86Emulator(logging=False).eval_instructions(asm)"
   ]
  },
  {
   "cell_type": "markdown",
   "metadata": {},
   "source": [
    "## Question 9\n",
    "\n",
    "Write X86 assembly that prepares a stack frame for three variables and puts the values 1,2,3 in stack locations. Why is this situation different than above?"
   ]
  },
  {
   "cell_type": "code",
   "execution_count": 6,
   "metadata": {},
   "outputs": [
    {
     "data": {
      "text/html": [
       "<div>\n",
       "<style scoped>\n",
       "    .dataframe tbody tr th:only-of-type {\n",
       "        vertical-align: middle;\n",
       "    }\n",
       "\n",
       "    .dataframe tbody tr th {\n",
       "        vertical-align: top;\n",
       "    }\n",
       "\n",
       "    .dataframe thead th {\n",
       "        text-align: right;\n",
       "    }\n",
       "</style>\n",
       "<table border=\"1\" class=\"dataframe\">\n",
       "  <thead>\n",
       "    <tr style=\"text-align: right;\">\n",
       "      <th></th>\n",
       "      <th>Location</th>\n",
       "      <th>Old</th>\n",
       "      <th>New</th>\n",
       "    </tr>\n",
       "  </thead>\n",
       "  <tbody>\n",
       "    <tr>\n",
       "      <th>0</th>\n",
       "      <td>mem 992</td>\n",
       "      <td>NaN</td>\n",
       "      <td>1000</td>\n",
       "    </tr>\n",
       "    <tr>\n",
       "      <th>1</th>\n",
       "      <td>mem 984</td>\n",
       "      <td>NaN</td>\n",
       "      <td>1</td>\n",
       "    </tr>\n",
       "    <tr>\n",
       "      <th>2</th>\n",
       "      <td>mem 976</td>\n",
       "      <td>NaN</td>\n",
       "      <td>2</td>\n",
       "    </tr>\n",
       "    <tr>\n",
       "      <th>3</th>\n",
       "      <td>mem 968</td>\n",
       "      <td>NaN</td>\n",
       "      <td>3</td>\n",
       "    </tr>\n",
       "    <tr>\n",
       "      <th>4</th>\n",
       "      <td>reg rbp</td>\n",
       "      <td>1000.0</td>\n",
       "      <td>992</td>\n",
       "    </tr>\n",
       "    <tr>\n",
       "      <th>5</th>\n",
       "      <td>reg rsp</td>\n",
       "      <td>1000.0</td>\n",
       "      <td>960</td>\n",
       "    </tr>\n",
       "  </tbody>\n",
       "</table>\n",
       "</div>"
      ],
      "text/plain": [
       "  Location     Old   New\n",
       "0  mem 992     NaN  1000\n",
       "1  mem 984     NaN     1\n",
       "2  mem 976     NaN     2\n",
       "3  mem 968     NaN     3\n",
       "4  reg rbp  1000.0   992\n",
       "5  reg rsp  1000.0   960"
      ]
     },
     "execution_count": 6,
     "metadata": {},
     "output_type": "execute_result"
    }
   ],
   "source": [
    "asm = \"\"\"\n",
    "pushq %rbp\n",
    "movq %rsp, %rbp\n",
    "subq $32, %rsp\n",
    "movq $1, -8(%rbp)\n",
    "movq $2, -16(%rbp)\n",
    "movq $3, -24(%rbp)\n",
    "\"\"\"\n",
    "\n",
    "X86Emulator(logging=False).eval_instructions(asm)"
   ]
  },
  {
   "cell_type": "markdown",
   "metadata": {},
   "source": [
    "- This situation is different from above because we leave one stack location unused. This is to make sure that the value of `rsp` is divisible by 16 (the *16-byte alignment*), as required by X86 assembly.\n",
    "- Your assign-homes pass should *ensure 16-byte alignment* of the stack frame."
   ]
  },
  {
   "cell_type": "markdown",
   "metadata": {},
   "source": [
    "## Question 9\n",
    "\n",
    "Implement a function `align` to ensure 16-byte alignment."
   ]
  },
  {
   "cell_type": "code",
   "execution_count": 3,
   "metadata": {},
   "outputs": [
    {
     "name": "stdout",
     "output_type": "stream",
     "text": [
      "32\n",
      "16\n",
      "32\n"
     ]
    }
   ],
   "source": [
    "def align(num_bytes: int) -> int:\n",
    "    YOUR SOLUTION HERE\n",
    "\n",
    "print(align(32))\n",
    "print(align(8))\n",
    "print(align(24))"
   ]
  },
  {
   "cell_type": "markdown",
   "metadata": {},
   "source": [
    "## Question 10\n",
    "\n",
    "Describe the assign-homes pass."
   ]
  },
  {
   "cell_type": "markdown",
   "metadata": {},
   "source": [
    "- Process each instruction\n",
    "- When you find a reference to a variable: \n",
    "    - Look up the variable in the `homes` dictionary\n",
    "        - If it's found, return whatever the `homes` dictionary says\n",
    "        - Otherwise, allocate a new stack location and add it to the `homes` dictionary"
   ]
  },
  {
   "cell_type": "code",
   "execution_count": 8,
   "metadata": {},
   "outputs": [],
   "source": [
    "def new_stack_location(homes, var):\n",
    "    len_stack = len(homes)\n",
    "    new_stack_offset = len_stack*8\n",
    "    new_stack_location = x86.Deref(- new_stack_offset, 'rbp') # produce: -n(%rbp)\n",
    "    homes[var] = new_stack_location\n",
    "    return new_stack_location"
   ]
  },
  {
   "cell_type": "markdown",
   "metadata": {},
   "source": [
    "----\n",
    "# Patch-instructions pass"
   ]
  },
  {
   "cell_type": "markdown",
   "metadata": {},
   "source": [
    "The patch-instructions pass fixes instructions with two in-memory arguments, by using the `rax` register as a temporary location."
   ]
  },
  {
   "cell_type": "markdown",
   "metadata": {},
   "source": [
    "## Question 11\n",
    "\n",
    "What is wrong with the following instructions?\n",
    "\n",
    "```\n",
    "movq -8(%rbp), -16(%rbp)\n",
    "addq -24(%rbp), -16(%rbp)\n",
    "```"
   ]
  },
  {
   "cell_type": "markdown",
   "metadata": {},
   "source": [
    "x86 assembly doesn't let you reference two memory locations in the same instructions one argument must be a register"
   ]
  },
  {
   "cell_type": "markdown",
   "metadata": {},
   "source": [
    "## Question 12\n",
    "\n",
    "Fix the instructions above."
   ]
  },
  {
   "cell_type": "markdown",
   "metadata": {},
   "source": [
    "```\n",
    "movq -8(%rbp), %rax\n",
    "movq %rax, -16(%rbp)\n",
    "movq -24(%rbp), %rax\n",
    "addq %rax, -16(%rbp)\n",
    "```"
   ]
  },
  {
   "cell_type": "markdown",
   "metadata": {},
   "source": [
    "## Question 13\n",
    "\n",
    "Describe the patch-instructions pass."
   ]
  },
  {
   "cell_type": "markdown",
   "metadata": {},
   "source": [
    "When you find an instruction where both args are `Deref`s:\n",
    "Generate two instructions where the first `movq`s the variable to `%rax`, and the second does the operation from `%rax` to the memory location. "
   ]
  }
 ],
 "metadata": {
  "kernelspec": {
   "display_name": "Python 3",
   "language": "python",
   "name": "python3"
  },
  "language_info": {
   "codemirror_mode": {
    "name": "ipython",
    "version": 3
   },
   "file_extension": ".py",
   "mimetype": "text/x-python",
   "name": "python",
   "nbconvert_exporter": "python",
   "pygments_lexer": "ipython3",
   "version": "3.7.5"
  }
 },
 "nbformat": 4,
 "nbformat_minor": 2
}
