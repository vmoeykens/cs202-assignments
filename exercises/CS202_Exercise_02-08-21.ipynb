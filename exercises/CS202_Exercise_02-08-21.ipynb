{
 "cells": [
  {
   "cell_type": "markdown",
   "metadata": {},
   "source": [
    "# CS202: Compiler Construction\n",
    "\n",
    "## In-class Exercises, Week of 02/08/2021"
   ]
  },
  {
   "cell_type": "markdown",
   "metadata": {},
   "source": [
    "----\n",
    "# PART I: Rvar language & interpreter"
   ]
  },
  {
   "cell_type": "markdown",
   "metadata": {},
   "source": [
    "The abstract syntax definition for RVar is below."
   ]
  },
  {
   "cell_type": "code",
   "execution_count": 1,
   "metadata": {},
   "outputs": [],
   "source": [
    "from dataclasses import dataclass\n",
    "from typing import List, Set, Dict, Tuple\n",
    "from cs202_support.base_ast import AST, print_ast\n",
    "\n",
    "@dataclass\n",
    "class RVarExp(AST):\n",
    "    pass\n",
    "\n",
    "@dataclass\n",
    "class Int(RVarExp):\n",
    "    val: int\n",
    "\n",
    "@dataclass\n",
    "class Var(RVarExp):\n",
    "    var: str\n",
    "\n",
    "@dataclass\n",
    "class Let(RVarExp):\n",
    "    x: str\n",
    "    e1: RVarExp\n",
    "    body: RVarExp\n",
    "\n",
    "@dataclass\n",
    "class Prim(RVarExp):\n",
    "    op: str\n",
    "    args: List[RVarExp]\n"
   ]
  },
  {
   "cell_type": "markdown",
   "metadata": {},
   "source": [
    "## Question 1\n",
    "\n",
    "Write an abstract syntax tree for the program: `let x = 5 in x + 3`."
   ]
  },
  {
   "cell_type": "code",
   "execution_count": 2,
   "metadata": {},
   "outputs": [
    {
     "name": "stdout",
     "output_type": "stream",
     "text": [
      "Let(\n",
      " x,\n",
      " Int(5),\n",
      " Prim(\n",
      "  +,\n",
      "  [\n",
      "   Var(x),\n",
      "   Int(3)\n",
      "  ]))\n"
     ]
    }
   ],
   "source": [
    "ast = Let('x', Int(5), Prim('+', [Var('x'), Int(3)]))\n",
    "print(print_ast(ast))"
   ]
  },
  {
   "cell_type": "code",
   "execution_count": 3,
   "metadata": {},
   "outputs": [
    {
     "name": "stdout",
     "output_type": "stream",
     "text": [
      "Let(\n",
      " x,\n",
      " Let(\n",
      "  y,\n",
      "  Int(3),\n",
      "  Prim(\n",
      "   +,\n",
      "   [\n",
      "    Var(y),\n",
      "    Int(2)\n",
      "   ])),\n",
      " Prim(\n",
      "  +,\n",
      "  [\n",
      "   Var(x),\n",
      "   Int(5)\n",
      "  ]))\n"
     ]
    }
   ],
   "source": [
    "ast = Let('x', Let('y', Int(3), Prim('+', [Var('y'), Int(2)])),\n",
    "          Prim('+', [Var('x'), Int(5)]))\n",
    "print(print_ast(ast))"
   ]
  },
  {
   "cell_type": "markdown",
   "metadata": {},
   "source": [
    "## Question 2\n",
    "\n",
    "What is the value of the program in question 1?"
   ]
  },
  {
   "cell_type": "markdown",
   "metadata": {},
   "source": [
    "`let x = 5 in x + 3` is the same as `replace x with 5 in \"x+3\" = 5 + 3 = 8`"
   ]
  },
  {
   "cell_type": "markdown",
   "metadata": {},
   "source": [
    "## Question 3\n",
    "\n",
    "Write an interpreter for Rvar."
   ]
  },
  {
   "cell_type": "code",
   "execution_count": 4,
   "metadata": {},
   "outputs": [],
   "source": [
    "def eval_rvar(e: RVarExp, env: Dict[str, int]) -> int:\n",
    "    if isinstance(e, Int):\n",
    "        return e.val\n",
    "    elif isinstance(e, Var):\n",
    "        # look up the variable in the environment\n",
    "        var_name = e.var\n",
    "        var_val = env[var_name]\n",
    "        return var_val\n",
    "        pass\n",
    "    elif isinstance(e, Let):\n",
    "        let_var = e.x\n",
    "        let_rhs : RVarExp = e.e1\n",
    "        let_body = e.body\n",
    "        \n",
    "        let_rhs_val = eval_rvar(let_rhs, env)\n",
    "        \n",
    "        #env[let_var] = let_rhs_val # updates the env with a side effect\n",
    "        new_env = {**env, let_var : let_rhs_val} # updates the env without a side effect\n",
    "        \n",
    "        let_body_val = eval_rvar(let_body, new_env)\n",
    "        return let_body_val\n",
    "        \n",
    "    elif isinstance(e, Prim):\n",
    "        if e.op == '+':\n",
    "            e1, e2 = e.args\n",
    "            v1 = eval_rvar(e1, env)\n",
    "            v2 = eval_rvar(e2, env)\n",
    "            return v1 + v2\n",
    "    else:\n",
    "        raise Exception('unknown expression', e)"
   ]
  },
  {
   "cell_type": "code",
   "execution_count": 5,
   "metadata": {},
   "outputs": [
    {
     "data": {
      "text/plain": [
       "11"
      ]
     },
     "execution_count": 5,
     "metadata": {},
     "output_type": "execute_result"
    }
   ],
   "source": [
    "test_ast = Let('x', Int(5),\n",
    "              Prim('+', [Var('x'), Int(6)]))\n",
    "eval_rvar(test_ast, {})"
   ]
  },
  {
   "cell_type": "code",
   "execution_count": 6,
   "metadata": {},
   "outputs": [
    {
     "data": {
      "text/plain": [
       "10"
      ]
     },
     "execution_count": 6,
     "metadata": {},
     "output_type": "execute_result"
    }
   ],
   "source": [
    "# TEST CASE\n",
    "eval_rvar(ast, {})"
   ]
  },
  {
   "cell_type": "markdown",
   "metadata": {},
   "source": [
    "## Question 4\n",
    "\n",
    "What is the value of the following program?"
   ]
  },
  {
   "cell_type": "code",
   "execution_count": 7,
   "metadata": {},
   "outputs": [
    {
     "name": "stdout",
     "output_type": "stream",
     "text": [
      "Let(\n",
      " x,\n",
      " Int(5),\n",
      " Let(\n",
      "  x,\n",
      "  Int(6),\n",
      "  Var(x)))\n"
     ]
    },
    {
     "data": {
      "text/plain": [
       "6"
      ]
     },
     "execution_count": 7,
     "metadata": {},
     "output_type": "execute_result"
    }
   ],
   "source": [
    "ast = Let('x', Int(5), Let('x', Int(6), Var('x')))\n",
    "print(print_ast(ast))\n",
    "eval_rvar(ast, {})"
   ]
  },
  {
   "cell_type": "markdown",
   "metadata": {},
   "source": [
    "The value is 6 because the second binding for x shadows the first binding"
   ]
  },
  {
   "cell_type": "markdown",
   "metadata": {},
   "source": [
    "----\n",
    "# PART II: uniquify"
   ]
  },
  {
   "cell_type": "markdown",
   "metadata": {},
   "source": [
    "## Question 5\n",
    "\n",
    "Why do we need this pass?"
   ]
  },
  {
   "cell_type": "markdown",
   "metadata": {},
   "source": [
    "- It makes bugs in later passes less likely because variable names are unique\n",
    "- It allows re-ordering bindings without changing the program's meaning"
   ]
  },
  {
   "cell_type": "markdown",
   "metadata": {},
   "source": [
    "## Question 6\n",
    "\n",
    "Write a new version of the program from above such that all the variable names are unique."
   ]
  },
  {
   "cell_type": "code",
   "execution_count": 8,
   "metadata": {},
   "outputs": [
    {
     "name": "stdout",
     "output_type": "stream",
     "text": [
      "Let(\n",
      " x,\n",
      " Int(5),\n",
      " Let(\n",
      "  x,\n",
      "  Int(6),\n",
      "  Var(x)))\n"
     ]
    }
   ],
   "source": [
    "ast = Let('x', Int(5), Let('x', Int(6), Var('x')))\n",
    "print(print_ast(ast))"
   ]
  },
  {
   "cell_type": "code",
   "execution_count": 9,
   "metadata": {},
   "outputs": [
    {
     "name": "stdout",
     "output_type": "stream",
     "text": [
      "Let(\n",
      " x1,\n",
      " Int(5),\n",
      " Let(\n",
      "  x2,\n",
      "  Int(6),\n",
      "  Var(x2)))\n"
     ]
    }
   ],
   "source": [
    "unique_ast = Let('x1', Int(5), Let('x2', Int(6), Var('x2')))\n",
    "print(print_ast(unique_ast))"
   ]
  },
  {
   "cell_type": "markdown",
   "metadata": {},
   "source": [
    "## Question 7\n",
    "\n",
    "Describe a recursive function for making variable names unique."
   ]
  },
  {
   "cell_type": "markdown",
   "metadata": {},
   "source": [
    "The function follows the same structure as the interpreter. \n",
    "In addition to a RVar expression, it takes an environment. \n",
    "The environment maps variable names to their new (unique) names. \n",
    "\n",
    "- Case int: return the integer\n",
    "- Case var: look up the var's new name in the env and return it\n",
    "- Case Let: recursively call uniquify on e1 (the rhs of the binding); generate a new name \"xN\" where N is a unique number; extend environment by binding x to xN, recursively call uniquify on the body of the Let \n",
    "- Case Plus: recursively call uniquify on sub-expressions"
   ]
  },
  {
   "cell_type": "markdown",
   "metadata": {},
   "source": [
    "## Question 8\n",
    "\n",
    "What does the environment look like when `uniquify` gets to the expression `Prim('+', [Var('x'), Int(6)])`? What about when it gets to the expression `Var('x')`?"
   ]
  },
  {
   "cell_type": "code",
   "execution_count": 10,
   "metadata": {},
   "outputs": [],
   "source": [
    "ast = Let('x', Int(5), Prim('+', [Var('x'), Int(6)]))\n",
    "# let x = 5 in x + 6"
   ]
  },
  {
   "cell_type": "code",
   "execution_count": null,
   "metadata": {},
   "outputs": [],
   "source": [
    "first_env = {'x': 'x1'}\n",
    "second_env = {'x': 'x1'}"
   ]
  },
  {
   "cell_type": "markdown",
   "metadata": {},
   "source": [
    "----\n",
    "# PART III: remove-complex-opera*"
   ]
  },
  {
   "cell_type": "markdown",
   "metadata": {},
   "source": [
    "## Question 8\n",
    "\n",
    "Consider this translation of an expression to assembly language. What is wrong with it?"
   ]
  },
  {
   "cell_type": "code",
   "execution_count": 13,
   "metadata": {},
   "outputs": [
    {
     "name": "stdout",
     "output_type": "stream",
     "text": [
      "Prim(\n",
      " +,\n",
      " [\n",
      "  Int(1),\n",
      "  Prim(\n",
      "   +,\n",
      "   [\n",
      "    Int(2),\n",
      "    Int(3)\n",
      "   ])\n",
      " ])\n"
     ]
    }
   ],
   "source": [
    "ast = Prim('+', [Int(1), Prim('+', [Int(2), Int(3)])])\n",
    "print(print_ast(ast))\n",
    "\n",
    "asm = \"\"\"\n",
    "movq $2, %rax\n",
    "addq $1, (addq $3, %rax)\n",
    "\"\"\""
   ]
  },
  {
   "cell_type": "markdown",
   "metadata": {},
   "source": [
    "It has nested arguments to assembly language instructions. Assembly doesn't allow this."
   ]
  },
  {
   "cell_type": "markdown",
   "metadata": {},
   "source": [
    "## Question 9\n",
    "\n",
    "Which AST nodes in the language RVar are **atomic**?"
   ]
  },
  {
   "cell_type": "markdown",
   "metadata": {},
   "source": [
    "Integers and variables"
   ]
  },
  {
   "cell_type": "markdown",
   "metadata": {},
   "source": [
    "## Question 10\n",
    "\n",
    "Why do we need this pass? What is the form of its output?"
   ]
  },
  {
   "cell_type": "markdown",
   "metadata": {},
   "source": [
    "- Assembly language doesn't allow nested expressions\n",
    "- RVar has nested expressions\n",
    "- We need to un-nest expressions"
   ]
  },
  {
   "cell_type": "markdown",
   "metadata": {},
   "source": [
    "## Question 11\n",
    "\n",
    "Convert the program from earlier into A-normal form."
   ]
  },
  {
   "cell_type": "code",
   "execution_count": 14,
   "metadata": {},
   "outputs": [
    {
     "name": "stdout",
     "output_type": "stream",
     "text": [
      "Prim(\n",
      " +,\n",
      " [\n",
      "  Int(1),\n",
      "  Prim(\n",
      "   +,\n",
      "   [\n",
      "    Int(2),\n",
      "    Int(3)\n",
      "   ])\n",
      " ])\n"
     ]
    }
   ],
   "source": [
    "ast = Prim('+', [Int(1), Prim('+', [Int(2), Int(3)])])\n",
    "print(print_ast(ast))"
   ]
  },
  {
   "cell_type": "code",
   "execution_count": 13,
   "metadata": {},
   "outputs": [
    {
     "name": "stdout",
     "output_type": "stream",
     "text": [
      "Let(\n",
      " tmp,\n",
      " Prim(\n",
      "  +,\n",
      "  [\n",
      "   Int(2),\n",
      "   Int(3)\n",
      "  ]),\n",
      " Prim(\n",
      "  +,\n",
      "  [\n",
      "   Int(1),\n",
      "   Var(tmp)\n",
      "  ]))\n"
     ]
    }
   ],
   "source": [
    "anf_ast = Let('tmp', Prim('+', [Int(2), Int(3)]), \n",
    "            Prim('+', [Int(1), Var('tmp')]))\n",
    "print(print_ast(anf_ast))"
   ]
  },
  {
   "cell_type": "markdown",
   "metadata": {},
   "source": [
    "## Question 12\n",
    "\n",
    "Describe a recursive procedure to perform the *remove-complex-opera* pass."
   ]
  },
  {
   "cell_type": "markdown",
   "metadata": {},
   "source": [
    "- rco-exp operates on expressions\n",
    "    - when you get to a + expression, call rco-atm on the arguments\n",
    "- rco-atm operates on things that need to be atomic"
   ]
  }
 ],
 "metadata": {
  "kernelspec": {
   "display_name": "Python 3",
   "language": "python",
   "name": "python3"
  },
  "language_info": {
   "codemirror_mode": {
    "name": "ipython",
    "version": 3
   },
   "file_extension": ".py",
   "mimetype": "text/x-python",
   "name": "python",
   "nbconvert_exporter": "python",
   "pygments_lexer": "ipython3",
   "version": "3.7.5"
  }
 },
 "nbformat": 4,
 "nbformat_minor": 2
}
